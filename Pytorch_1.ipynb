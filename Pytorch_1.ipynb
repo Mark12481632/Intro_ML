{
  "nbformat": 4,
  "nbformat_minor": 0,
  "metadata": {
    "colab": {
      "provenance": [],
      "authorship_tag": "ABX9TyOQOpf+Mwtkt0hyEHE1Fnob",
      "include_colab_link": true
    },
    "kernelspec": {
      "name": "python3",
      "display_name": "Python 3"
    },
    "language_info": {
      "name": "python"
    }
  },
  "cells": [
    {
      "cell_type": "markdown",
      "metadata": {
        "id": "view-in-github",
        "colab_type": "text"
      },
      "source": [
        "<a href=\"https://colab.research.google.com/github/Mark12481632/Intro_ML/blob/main/Pytorch_1.ipynb\" target=\"_parent\"><img src=\"https://colab.research.google.com/assets/colab-badge.svg\" alt=\"Open In Colab\"/></a>"
      ]
    },
    {
      "cell_type": "code",
      "execution_count": 14,
      "metadata": {
        "id": "8IEUT8EsrzWj"
      },
      "outputs": [],
      "source": [
        "# Imports:\n",
        "# ========\n",
        "\n",
        "import torch\n",
        "import torch.nn as nn\n",
        "import numpy as np\n",
        "import pandas as pd\n",
        "import matplotlib.pyplot as plt"
      ]
    },
    {
      "cell_type": "code",
      "source": [
        "# Example tensors\n",
        "data_lst_1 = [[1,2,3,4,5], [6,7,8,9,10]]\n",
        "tensor_1 = torch.tensor(data_lst_1)\n",
        "print(tensor_1)\n",
        "print(tensor_1.shape, tensor_1.size(), tensor_1.dtype)\n",
        "\n",
        "data_lst_2 = [[1,2,1,2,1], [4,4,1,2,3]]\n",
        "tensor_2 = torch.tensor(data_lst_2)\n",
        "print(tensor_2)\n",
        "print(tensor_2.shape, tensor_2.size(), tensor_2.dtype)\n",
        "\n",
        "# Element by element operations possible with same shape tensors:\n",
        "print(tensor_1 + tensor_2)\n",
        "print(tensor_1 - tensor_2)\n",
        "print(tensor_1 * tensor_2)\n",
        "print(tensor_1 / tensor_2)\n",
        "\n",
        "# Tensor multiplication.\n",
        "print(tensor_1 + tensor_2)"
      ],
      "metadata": {
        "colab": {
          "base_uri": "https://localhost:8080/"
        },
        "id": "LeytIOX6sWGP",
        "outputId": "6cd5d11b-e0ae-4eb7-88ec-f8255317bb16"
      },
      "execution_count": 11,
      "outputs": [
        {
          "output_type": "stream",
          "name": "stdout",
          "text": [
            "tensor([[ 1,  2,  3,  4,  5],\n",
            "        [ 6,  7,  8,  9, 10]])\n",
            "torch.Size([2, 5]) torch.Size([2, 5]) torch.int64\n",
            "tensor([[1, 2, 1, 2, 1],\n",
            "        [4, 4, 1, 2, 3]])\n",
            "torch.Size([2, 5]) torch.Size([2, 5]) torch.int64\n",
            "tensor([[ 2,  4,  4,  6,  6],\n",
            "        [10, 11,  9, 11, 13]])\n",
            "tensor([[0, 0, 2, 2, 4],\n",
            "        [2, 3, 7, 7, 7]])\n",
            "tensor([[ 1,  4,  3,  8,  5],\n",
            "        [24, 28,  8, 18, 30]])\n",
            "tensor([[1.0000, 1.0000, 3.0000, 2.0000, 5.0000],\n",
            "        [1.5000, 1.7500, 8.0000, 4.5000, 3.3333]])\n",
            "tensor([[ 2,  4,  4,  6,  6],\n",
            "        [10, 11,  9, 11, 13]])\n"
          ]
        }
      ]
    },
    {
      "cell_type": "code",
      "source": [
        "# Create simple NN\n",
        "\n",
        "input_tensor = torch.tensor([[0.3471, 0.4547, -0.2356]])\n",
        "\n",
        "linear_layer = nn.Linear(in_features=3, out_features=2)\n",
        "output = linear_layer(input_tensor)\n",
        "print(output)\n",
        "\n",
        "print(linear_layer.weight)\n",
        "print(linear_layer.bias)"
      ],
      "metadata": {
        "colab": {
          "base_uri": "https://localhost:8080/"
        },
        "id": "6CaYB8A4vDkw",
        "outputId": "5b1f29e7-1db7-4ebe-f60a-580273725448"
      },
      "execution_count": 17,
      "outputs": [
        {
          "output_type": "stream",
          "name": "stdout",
          "text": [
            "tensor([[-0.4696,  0.5197]], grad_fn=<AddmmBackward0>)\n",
            "Parameter containing:\n",
            "tensor([[-0.0575, -0.5755,  0.1649],\n",
            "        [-0.2138,  0.1136, -0.0937]], requires_grad=True)\n",
            "Parameter containing:\n",
            "tensor([-0.1492,  0.5201], requires_grad=True)\n"
          ]
        }
      ]
    },
    {
      "cell_type": "code",
      "source": [
        "# Adding layers to network:\n",
        "n_features = 8\n",
        "n_classes = 2\n",
        "\n",
        "# nn.Linear(8, 4) means this layer has 4 neurons.\n",
        "#                 Each neuron has 9 (8+1 bias) inputs.\n",
        "#                 Hence, total of 4 * 9 = 36 params required.\n",
        "\n",
        "# Number of inputs at layer (n+1) must = number outputs of layer n.\n",
        "model = nn.Sequential(nn.Linear(n_features, 4),\n",
        "                      nn.Linear(4, n_classes))\n",
        "\n",
        "# Above model has (8+1) * 4 + (4+1)*2 = 36 + 10 = 46 params to train in total.\n",
        "\n",
        "print(model)\n",
        "\n",
        "# Show number of params needed to be trainied using numel():\n",
        "total = 0\n",
        "for param in model.parameters():\n",
        "    total += param.numel()\n",
        "print(total)"
      ],
      "metadata": {
        "colab": {
          "base_uri": "https://localhost:8080/"
        },
        "id": "NrlsDJRktPIn",
        "outputId": "02af2be7-d4a7-415e-dcc9-38f6c7d1a84f"
      },
      "execution_count": 23,
      "outputs": [
        {
          "output_type": "stream",
          "name": "stdout",
          "text": [
            "Sequential(\n",
            "  (0): Linear(in_features=8, out_features=4, bias=True)\n",
            "  (1): Linear(in_features=4, out_features=2, bias=True)\n",
            ")\n",
            "46\n"
          ]
        }
      ]
    },
    {
      "cell_type": "code",
      "source": [
        "# Read in data file.\n",
        "# Note: type (0 => bird), (1 => mammal), (2 => reptile)\n",
        "data = pd.read_csv(\"https://raw.githubusercontent.com/Mark12481632/Intro_ML/refs/heads/main/animals.csv\")\n",
        "data = data.iloc[:, 1:]\n",
        "features = data.to_numpy()\n",
        "print(features)"
      ],
      "metadata": {
        "colab": {
          "base_uri": "https://localhost:8080/"
        },
        "id": "VJ0BCSmjIZeR",
        "outputId": "75e6102c-862b-40f4-f7c3-94864f1b4ba8"
      },
      "execution_count": 29,
      "outputs": [
        {
          "output_type": "stream",
          "name": "stdout",
          "text": [
            "[[0 1 1 0 0 2 1 0]\n",
            " [0 1 1 0 1 2 1 0]\n",
            " [1 0 0 1 1 4 1 1]\n",
            " [1 0 0 1 0 4 1 1]\n",
            " [0 0 1 0 1 4 1 2]]\n"
          ]
        }
      ]
    }
  ]
}