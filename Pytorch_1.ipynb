{
  "nbformat": 4,
  "nbformat_minor": 0,
  "metadata": {
    "colab": {
      "provenance": [],
      "authorship_tag": "ABX9TyOw9q7mthQGtLOoNP2LzzDb",
      "include_colab_link": true
    },
    "kernelspec": {
      "name": "python3",
      "display_name": "Python 3"
    },
    "language_info": {
      "name": "python"
    }
  },
  "cells": [
    {
      "cell_type": "markdown",
      "metadata": {
        "id": "view-in-github",
        "colab_type": "text"
      },
      "source": [
        "<a href=\"https://colab.research.google.com/github/Mark12481632/Intro_ML/blob/main/Pytorch_1.ipynb\" target=\"_parent\"><img src=\"https://colab.research.google.com/assets/colab-badge.svg\" alt=\"Open In Colab\"/></a>"
      ]
    },
    {
      "cell_type": "code",
      "execution_count": 1,
      "metadata": {
        "id": "8IEUT8EsrzWj"
      },
      "outputs": [],
      "source": [
        "# Imports:\n",
        "# ========\n",
        "\n",
        "import torch\n",
        "import torch.nn as nn\n",
        "import torch.utils.data as TensorData\n",
        "import torch.utils.data as DataLoader\n",
        "import torch.nn.functional as F\n",
        "import numpy as np\n",
        "import pandas as pd\n",
        "import matplotlib.pyplot as plt"
      ]
    },
    {
      "cell_type": "code",
      "source": [
        "# Example tensors\n",
        "data_lst_1 = [[1,2,3,4,5], [6,7,8,9,10]]\n",
        "tensor_1 = torch.tensor(data_lst_1)\n",
        "print(tensor_1)\n",
        "print(tensor_1.shape, tensor_1.size(), tensor_1.dtype)\n",
        "\n",
        "data_lst_2 = [[1,2,1,2,1], [4,4,1,2,3]]\n",
        "tensor_2 = torch.tensor(data_lst_2)\n",
        "print(tensor_2)\n",
        "print(tensor_2.shape, tensor_2.size(), tensor_2.dtype)\n",
        "\n",
        "# Element by element operations possible with same shape tensors:\n",
        "print(tensor_1 + tensor_2)\n",
        "print(tensor_1 - tensor_2)\n",
        "print(tensor_1 * tensor_2)\n",
        "print(tensor_1 / tensor_2)\n",
        "\n",
        "# Tensor multiplication.\n",
        "print(tensor_1 + tensor_2)"
      ],
      "metadata": {
        "colab": {
          "base_uri": "https://localhost:8080/"
        },
        "id": "LeytIOX6sWGP",
        "outputId": "6cd5d11b-e0ae-4eb7-88ec-f8255317bb16"
      },
      "execution_count": null,
      "outputs": [
        {
          "output_type": "stream",
          "name": "stdout",
          "text": [
            "tensor([[ 1,  2,  3,  4,  5],\n",
            "        [ 6,  7,  8,  9, 10]])\n",
            "torch.Size([2, 5]) torch.Size([2, 5]) torch.int64\n",
            "tensor([[1, 2, 1, 2, 1],\n",
            "        [4, 4, 1, 2, 3]])\n",
            "torch.Size([2, 5]) torch.Size([2, 5]) torch.int64\n",
            "tensor([[ 2,  4,  4,  6,  6],\n",
            "        [10, 11,  9, 11, 13]])\n",
            "tensor([[0, 0, 2, 2, 4],\n",
            "        [2, 3, 7, 7, 7]])\n",
            "tensor([[ 1,  4,  3,  8,  5],\n",
            "        [24, 28,  8, 18, 30]])\n",
            "tensor([[1.0000, 1.0000, 3.0000, 2.0000, 5.0000],\n",
            "        [1.5000, 1.7500, 8.0000, 4.5000, 3.3333]])\n",
            "tensor([[ 2,  4,  4,  6,  6],\n",
            "        [10, 11,  9, 11, 13]])\n"
          ]
        }
      ]
    },
    {
      "cell_type": "code",
      "source": [
        "# Create simple NN\n",
        "\n",
        "input_tensor = torch.tensor([[0.3471, 0.4547, -0.2356]])\n",
        "\n",
        "linear_layer = nn.Linear(in_features=3, out_features=2)\n",
        "output = linear_layer(input_tensor)\n",
        "print(output)\n",
        "\n",
        "print(linear_layer.weight)\n",
        "print(linear_layer.bias)"
      ],
      "metadata": {
        "colab": {
          "base_uri": "https://localhost:8080/"
        },
        "id": "6CaYB8A4vDkw",
        "outputId": "5b1f29e7-1db7-4ebe-f60a-580273725448"
      },
      "execution_count": null,
      "outputs": [
        {
          "output_type": "stream",
          "name": "stdout",
          "text": [
            "tensor([[-0.4696,  0.5197]], grad_fn=<AddmmBackward0>)\n",
            "Parameter containing:\n",
            "tensor([[-0.0575, -0.5755,  0.1649],\n",
            "        [-0.2138,  0.1136, -0.0937]], requires_grad=True)\n",
            "Parameter containing:\n",
            "tensor([-0.1492,  0.5201], requires_grad=True)\n"
          ]
        }
      ]
    },
    {
      "cell_type": "code",
      "source": [
        "# Adding layers to network:\n",
        "n_features = 8\n",
        "n_classes = 2\n",
        "\n",
        "# nn.Linear(8, 4) means this layer has 4 neurons.\n",
        "#                 Each neuron has 9 (8+1 bias) inputs.\n",
        "#                 Hence, total of 4 * 9 = 36 params required.\n",
        "\n",
        "# Number of inputs at layer (n+1) must = number outputs of layer n.\n",
        "model = nn.Sequential(nn.Linear(n_features, 4),\n",
        "                      nn.Linear(4, n_classes))\n",
        "\n",
        "# Above model has (8+1) * 4 + (4+1)*2 = 36 + 10 = 46 params to train in total.\n",
        "\n",
        "print(model)\n",
        "\n",
        "# Show number of params needed to be trainied using numel():\n",
        "total = 0\n",
        "for param in model.parameters():\n",
        "    total += param.numel()\n",
        "print(total)"
      ],
      "metadata": {
        "colab": {
          "base_uri": "https://localhost:8080/"
        },
        "id": "NrlsDJRktPIn",
        "outputId": "02af2be7-d4a7-415e-dcc9-38f6c7d1a84f"
      },
      "execution_count": null,
      "outputs": [
        {
          "output_type": "stream",
          "name": "stdout",
          "text": [
            "Sequential(\n",
            "  (0): Linear(in_features=8, out_features=4, bias=True)\n",
            "  (1): Linear(in_features=4, out_features=2, bias=True)\n",
            ")\n",
            "46\n"
          ]
        }
      ]
    },
    {
      "cell_type": "code",
      "source": [
        "# Read in data file.\n",
        "# Note: type (0 => bird), (1 => mammal), (2 => reptile)\n",
        "data = pd.read_csv(\"https://raw.githubusercontent.com/Mark12481632/Intro_ML/refs/heads/main/animals.csv\")\n",
        "data = data.iloc[:, 1:]\n",
        "X = data.to_numpy()\n",
        "print(X)\n",
        "\n",
        "y = data.iloc[:, -1].to_numpy()\n",
        "print(y)\n",
        "\n",
        "# Create Tensors for features and results\n",
        "dataset = TensorData.TensorDataset(torch.tensor(X), torch.tensor(y))\n",
        "\n",
        "input_sample, label_sample = dataset[0]\n",
        "print(\"Input-Sample:\", input_sample)\n",
        "print(\"Label-Sample:\", label_sample)"
      ],
      "metadata": {
        "colab": {
          "base_uri": "https://localhost:8080/"
        },
        "id": "VJ0BCSmjIZeR",
        "outputId": "48fd998b-b1ac-4ab0-f6a8-3833abf2b993"
      },
      "execution_count": null,
      "outputs": [
        {
          "output_type": "stream",
          "name": "stdout",
          "text": [
            "[[0 1 1 0 0 2 1 0]\n",
            " [0 1 1 0 1 2 1 0]\n",
            " [1 0 0 1 1 4 1 1]\n",
            " [1 0 0 1 0 4 1 1]\n",
            " [0 0 1 0 1 4 1 2]]\n",
            "[0 0 1 1 2]\n",
            "Input-Sample: tensor([0, 1, 1, 0, 0, 2, 1, 0])\n",
            "Label-Sample: tensor(0)\n"
          ]
        }
      ]
    },
    {
      "cell_type": "code",
      "source": [
        "# Dataset creation\n",
        "# Terms:\n",
        "#   1 epoch is one full pass through the DataLoader.\n",
        "#   Generalization means that the model performs well on unseen data.\n",
        "\n",
        "batch_size = 2 # Number trainiung samples per iteration\n",
        "shuffle =True  # Randomize data order.\n",
        "\n",
        "# dataloader\n",
        "dataloader = DataLoader.DataLoader(dataset, batch_size=batch_size, shuffle=shuffle)\n",
        "\n",
        "for batch_inputs, batch_labels in dataloader:\n",
        "    print(batch_inputs)\n",
        "    print(batch_labels)"
      ],
      "metadata": {
        "colab": {
          "base_uri": "https://localhost:8080/"
        },
        "id": "JVe5oPAJWKbM",
        "outputId": "21c8cff0-61a4-4a74-be78-138d6193055e"
      },
      "execution_count": null,
      "outputs": [
        {
          "output_type": "stream",
          "name": "stdout",
          "text": [
            "tensor([[1, 0, 0, 1, 1, 4, 1, 1],\n",
            "        [0, 1, 1, 0, 1, 2, 1, 0]])\n",
            "tensor([1, 0])\n",
            "tensor([[1, 0, 0, 1, 0, 4, 1, 1],\n",
            "        [0, 0, 1, 0, 1, 4, 1, 2]])\n",
            "tensor([1, 2])\n",
            "tensor([[0, 1, 1, 0, 0, 2, 1, 0]])\n",
            "tensor([0])\n"
          ]
        }
      ]
    },
    {
      "cell_type": "code",
      "source": [
        "# Training.\n",
        "# Here we are looking at a Regression Problem.  In this case, can use an MSE loss function (params not categorical)\n",
        "# and a Linear Layer as final output layer.\n",
        "# Idea to predicet salary in USD.\n",
        "# As a pure regression problem - no one-hot encoding.\n",
        "\n",
        "data = pd.read_csv(\"https://raw.githubusercontent.com/Mark12481632/Intro_ML/refs/heads/main/Salary_Dataset.csv\")\n",
        "features = data.iloc[:, :-1].to_numpy()\n",
        "target = data.iloc[:, -1].to_numpy()\n",
        "\n",
        "# Normnalize salaries as a lot of variation:\n",
        "target = (target - target.mean()) / target.std()\n",
        "features = (features - features.mean(axis=0)) / features.std(axis=0)\n",
        "\n",
        "# Create dataset as Tensor.\n",
        "dataset = TensorData.TensorDataset(torch.tensor(features).float(), torch.tensor(target).float())\n",
        "\n",
        "# Create the data loader.\n",
        "dataloader = DataLoader.DataLoader(dataset, batch_size=10, shuffle=True)\n",
        "\n",
        "# Create the model.\n",
        "# We have 4 input features and 1 output target.\n",
        "model = nn.Sequential(nn.Linear(4, 1))\n",
        "\n",
        "# Create Loss & Optimizer\n",
        "criterion = nn.MSELoss()\n",
        "optimizer = torch.optim.SGD(model.parameters(), lr=1e-4)\n",
        "#optimizer = torch.optim.Adam(model.parameters(), lr=1e-3)\n",
        "\n",
        "num_epochs = 60\n",
        "for epoch in range(num_epochs):\n",
        "    for batch_inputs, batch_labels in dataloader:\n",
        "        optimizer.zero_grad()\n",
        "\n",
        "        prediction = model(batch_inputs)\n",
        "        loss = criterion(prediction, batch_labels.view(-1, 1))\n",
        "\n",
        "        loss.backward()\n",
        "        optimizer.step()\n",
        "\n",
        "    print(f\"Epoch: {epoch}, Loss: {loss.item()}\")\n"
      ],
      "metadata": {
        "colab": {
          "base_uri": "https://localhost:8080/"
        },
        "id": "ReZ25LKvZCw5",
        "outputId": "670e2e42-07c1-43ce-a4bd-d117cd2ebf85"
      },
      "execution_count": 2,
      "outputs": [
        {
          "output_type": "stream",
          "name": "stdout",
          "text": [
            "Epoch: 0, Loss: 1.6409088373184204\n",
            "Epoch: 1, Loss: 0.7738157510757446\n",
            "Epoch: 2, Loss: 1.1146838665008545\n",
            "Epoch: 3, Loss: 0.7416489124298096\n",
            "Epoch: 4, Loss: 0.5360133051872253\n",
            "Epoch: 5, Loss: 2.1919448375701904\n",
            "Epoch: 6, Loss: 1.5731332302093506\n",
            "Epoch: 7, Loss: 1.9644124507904053\n",
            "Epoch: 8, Loss: 1.4056751728057861\n",
            "Epoch: 9, Loss: 0.6278043985366821\n",
            "Epoch: 10, Loss: 0.3479159474372864\n",
            "Epoch: 11, Loss: 1.6188377141952515\n",
            "Epoch: 12, Loss: 1.3159621953964233\n",
            "Epoch: 13, Loss: 0.6498783826828003\n",
            "Epoch: 14, Loss: 0.9390724301338196\n",
            "Epoch: 15, Loss: 0.990132212638855\n",
            "Epoch: 16, Loss: 1.138745903968811\n",
            "Epoch: 17, Loss: 0.6312764286994934\n",
            "Epoch: 18, Loss: 1.1347177028656006\n",
            "Epoch: 19, Loss: 0.9515658617019653\n",
            "Epoch: 20, Loss: 1.7081769704818726\n",
            "Epoch: 21, Loss: 0.9924022555351257\n",
            "Epoch: 22, Loss: 0.4810789227485657\n",
            "Epoch: 23, Loss: 0.9623463749885559\n",
            "Epoch: 24, Loss: 2.189889430999756\n",
            "Epoch: 25, Loss: 0.6731178164482117\n",
            "Epoch: 26, Loss: 1.0186011791229248\n",
            "Epoch: 27, Loss: 0.7407591342926025\n",
            "Epoch: 28, Loss: 1.4132890701293945\n",
            "Epoch: 29, Loss: 0.30143770575523376\n",
            "Epoch: 30, Loss: 0.6344941854476929\n",
            "Epoch: 31, Loss: 0.36941200494766235\n",
            "Epoch: 32, Loss: 0.7676874399185181\n",
            "Epoch: 33, Loss: 1.291582465171814\n",
            "Epoch: 34, Loss: 1.2495307922363281\n",
            "Epoch: 35, Loss: 0.9840105175971985\n",
            "Epoch: 36, Loss: 0.767833411693573\n",
            "Epoch: 37, Loss: 0.6648760437965393\n",
            "Epoch: 38, Loss: 0.7776581048965454\n",
            "Epoch: 39, Loss: 0.966031551361084\n",
            "Epoch: 40, Loss: 0.36385685205459595\n",
            "Epoch: 41, Loss: 1.958569884300232\n",
            "Epoch: 42, Loss: 1.1002002954483032\n",
            "Epoch: 43, Loss: 0.7137570381164551\n",
            "Epoch: 44, Loss: 0.9341864585876465\n",
            "Epoch: 45, Loss: 1.2592113018035889\n",
            "Epoch: 46, Loss: 0.6049357652664185\n",
            "Epoch: 47, Loss: 1.0684549808502197\n",
            "Epoch: 48, Loss: 0.9388138651847839\n",
            "Epoch: 49, Loss: 0.43290814757347107\n",
            "Epoch: 50, Loss: 1.6317856311798096\n",
            "Epoch: 51, Loss: 0.7006980180740356\n",
            "Epoch: 52, Loss: 1.0286006927490234\n",
            "Epoch: 53, Loss: 1.166080355644226\n",
            "Epoch: 54, Loss: 1.4817759990692139\n",
            "Epoch: 55, Loss: 1.2690179347991943\n",
            "Epoch: 56, Loss: 0.654991626739502\n",
            "Epoch: 57, Loss: 0.727522611618042\n",
            "Epoch: 58, Loss: 0.6009472608566284\n",
            "Epoch: 59, Loss: 0.3391399681568146\n"
          ]
        }
      ]
    },
    {
      "cell_type": "code",
      "source": [
        "# Apply to some test values & get predictions\n",
        "# We have 100 sample records - so lets take 10 samples\n",
        "sample_index = np.random.randint(0, 100, 10)\n",
        "\n",
        "sample_features = features[sample_index, :]\n",
        "sample_targets = target[sample_index]\n",
        "\n",
        "sample_inputs = torch.tensor(sample_features).float()\n",
        "sample_predictions = model(sample_inputs)\n",
        "\n",
        "# Show comparison:\n",
        "for i in range(10):\n",
        "    print(f\"Prediction: {sample_predictions[i].item()}, Target: {sample_targets[i]}\")"
      ],
      "metadata": {
        "colab": {
          "base_uri": "https://localhost:8080/"
        },
        "id": "Y9iUN7Y6kmtW",
        "outputId": "157621c5-d632-4210-9477-7bf622b07c2a"
      },
      "execution_count": 3,
      "outputs": [
        {
          "output_type": "stream",
          "name": "stdout",
          "text": [
            "Prediction: 0.614121675491333, Target: 0.47010049113164337\n",
            "Prediction: 0.614121675491333, Target: 0.47010049113164337\n",
            "Prediction: 1.0206451416015625, Target: 1.32685172400575\n",
            "Prediction: -0.19395577907562256, Target: -1.4044580951175654\n",
            "Prediction: 0.0929189920425415, Target: -0.17341527307035343\n",
            "Prediction: 0.44818639755249023, Target: 1.022723197229118\n",
            "Prediction: -0.20805490016937256, Target: -1.3826650227065396\n",
            "Prediction: 1.0206451416015625, Target: 1.32685172400575\n",
            "Prediction: -0.1534574031829834, Target: -1.5558579355665207\n",
            "Prediction: 0.12960009276866913, Target: 0.10617389981256257\n"
          ]
        }
      ]
    },
    {
      "cell_type": "code",
      "source": [
        "X = [x.item() for x in sample_predictions]\n",
        "y = [x for x in sample_targets]\n",
        "\n",
        "plt.scatter(X, y)"
      ],
      "metadata": {
        "colab": {
          "base_uri": "https://localhost:8080/",
          "height": 448
        },
        "id": "T00r95_5zSor",
        "outputId": "6e906b51-439c-44f2-b524-9b8dee983a0c"
      },
      "execution_count": 4,
      "outputs": [
        {
          "output_type": "execute_result",
          "data": {
            "text/plain": [
              "<matplotlib.collections.PathCollection at 0x7e095c193b10>"
            ]
          },
          "metadata": {},
          "execution_count": 4
        },
        {
          "output_type": "display_data",
          "data": {
            "text/plain": [
              "<Figure size 640x480 with 1 Axes>"
            ],
            "image/png": "[encoded data removed]"
          },
          "metadata": {}
        }
      ]
    },
    {
      "cell_type": "code",
      "source": [
        "X"
      ],
      "metadata": {
        "colab": {
          "base_uri": "https://localhost:8080/"
        },
        "id": "QJl5maWR0ooA",
        "outputId": "c5bfdf62-d522-4d39-df1b-4d199818b9aa"
      },
      "execution_count": null,
      "outputs": [
        {
          "output_type": "execute_result",
          "data": {
            "text/plain": [
              "[0.28350308537483215,\n",
              " 0.034287869930267334,\n",
              " 0.26198050379753113,\n",
              " 0.048206984996795654,\n",
              " -0.07723088562488556,\n",
              " -0.294526606798172,\n",
              " 0.45484718680381775,\n",
              " 0.26198050379753113,\n",
              " -0.07159090042114258,\n",
              " -0.04894255846738815]"
            ]
          },
          "metadata": {},
          "execution_count": 89
        }
      ]
    },
    {
      "cell_type": "code",
      "source": [],
      "metadata": {
        "id": "GxGn0p2400IX"
      },
      "execution_count": null,
      "outputs": []
    }
  ]
}