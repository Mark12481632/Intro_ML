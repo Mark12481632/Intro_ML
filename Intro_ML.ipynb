{
  "nbformat": 4,
  "nbformat_minor": 0,
  "metadata": {
    "colab": {
      "provenance": [],
      "authorship_tag": "ABX9TyOt0HUzvrUnc6st1QdAOppj",
      "include_colab_link": true
    },
    "kernelspec": {
      "name": "python3",
      "display_name": "Python 3"
    },
    "language_info": {
      "name": "python"
    }
  },
  "cells": [
    {
      "cell_type": "markdown",
      "metadata": {
        "id": "view-in-github",
        "colab_type": "text"
      },
      "source": [
        "<a href=\"https://colab.research.google.com/github/Mark12481632/Intro_ML/blob/main/Intro_ML.ipynb\" target=\"_parent\"><img src=\"https://colab.research.google.com/assets/colab-badge.svg\" alt=\"Open In Colab\"/></a>"
      ]
    },
    {
      "cell_type": "code",
      "execution_count": 10,
      "metadata": {
        "id": "INLiEuMPTOO-"
      },
      "outputs": [],
      "source": [
        "# Imports located here\n",
        "import numpy as np\n",
        "import pandas as pd\n",
        "import matplotlib.pyplot as plt\n",
        "\n",
        "from sklearn.linear_model import LinearRegression\n",
        "from sklearn.model_selection import train_test_split\n",
        "from sklearn.metrics import mean_squared_error, r2_score"
      ]
    },
    {
      "cell_type": "code",
      "source": [
        "# Read in the data file\n",
        "url = \"https://raw.githubusercontent.com/Mark12481632/Intro_ML/refs/heads/main/datasets/lin_reg_dataset_1.csv\"\n",
        "df = pd.read_csv(url)\n",
        "\n",
        "# Set up names of columns and target appropraitely\n",
        "df.columns = ['attr_1', 'attr_2', \"attr_3\", \"attr_4\", \"result\"]"
      ],
      "metadata": {
        "id": "w24fjJrnVZEo"
      },
      "execution_count": 8,
      "outputs": []
    },
    {
      "cell_type": "code",
      "source": [
        "X = df[['attr_1', 'attr_2', \"attr_3\", \"attr_4\"]]\n",
        "y = df[\"result\"]\n",
        "\n",
        "X_train, X_test, y_train, y_test = train_test_split(X, y, test_size=0.2)\n",
        "\n",
        "model = LinearRegression()\n",
        "model.fit(X_train, y_train)\n",
        "\n",
        "predictions = model.predict(X_test)\n",
        "\n",
        "mse = mean_squared_error(y_test, predictions)\n",
        "r2 = r2_score(y_test, predictions)\n",
        "\n",
        "print(\"MSE:\", mse)\n",
        "print(\"R² score:\", r2)"
      ],
      "metadata": {
        "id": "KIxpxSoQYKrp",
        "outputId": "b1182b91-e84f-4dab-f6df-d951d6c6bbf2",
        "colab": {
          "base_uri": "https://localhost:8080/"
        }
      },
      "execution_count": 11,
      "outputs": [
        {
          "output_type": "stream",
          "name": "stdout",
          "text": [
            "MSE: 91.50392203124476\n",
            "R² score: 0.9893568945869022\n"
          ]
        }
      ]
    },
    {
      "cell_type": "code",
      "source": [
        "comparison = pd.DataFrame({\"Actual\": y_test.values, \"Predicted\": predictions})\n",
        "print(comparison.head())"
      ],
      "metadata": {
        "id": "wOTtuG3vaNtn",
        "outputId": "20e150ec-937f-43e5-de5a-517275a1e140",
        "colab": {
          "base_uri": "https://localhost:8080/"
        }
      },
      "execution_count": 12,
      "outputs": [
        {
          "output_type": "stream",
          "name": "stdout",
          "text": [
            "       Actual   Predicted\n",
            "0  116.547325  115.150521\n",
            "1 -116.744400 -100.737049\n",
            "2   -9.831573   -8.641021\n",
            "3   -8.710886  -15.212454\n",
            "4  -95.445711 -104.976143\n"
          ]
        }
      ]
    }
  ]
}