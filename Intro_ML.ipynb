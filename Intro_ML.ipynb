{
  "nbformat": 4,
  "nbformat_minor": 0,
  "metadata": {
    "colab": {
      "provenance": [],
      "authorship_tag": "ABX9TyP0Xb1zEhBfg6F8ehtwk3FC",
      "include_colab_link": true
    },
    "kernelspec": {
      "name": "python3",
      "display_name": "Python 3"
    },
    "language_info": {
      "name": "python"
    }
  },
  "cells": [
    {
      "cell_type": "markdown",
      "metadata": {
        "id": "view-in-github",
        "colab_type": "text"
      },
      "source": [
        "<a href=\"https://colab.research.google.com/github/Mark12481632/Intro_ML/blob/main/Intro_ML.ipynb\" target=\"_parent\"><img src=\"https://colab.research.google.com/assets/colab-badge.svg\" alt=\"Open In Colab\"/></a>"
      ]
    },
    {
      "cell_type": "code",
      "execution_count": 10,
      "metadata": {
        "id": "INLiEuMPTOO-"
      },
      "outputs": [],
      "source": [
        "# Imports located here\n",
        "import numpy as np\n",
        "import pandas as pd\n",
        "import matplotlib.pyplot as plt\n",
        "\n",
        "from sklearn.linear_model import LinearRegression\n",
        "from sklearn.model_selection import train_test_split\n",
        "from sklearn.metrics import mean_squared_error, r2_score"
      ]
    },
    {
      "cell_type": "code",
      "source": [
        "# Read in the data file\n",
        "url = \"https://raw.githubusercontent.com/Mark12481632/Intro_ML/refs/heads/main/datasets/lin_reg_dataset_1.csv\"\n",
        "df = pd.read_csv(url)\n",
        "\n",
        "# Set up names of columns and target appropraitely\n",
        "df.columns = ['attr_1', 'attr_2', \"attr_3\", \"attr_4\", \"result\"]"
      ],
      "metadata": {
        "id": "w24fjJrnVZEo"
      },
      "execution_count": 71,
      "outputs": []
    },
    {
      "cell_type": "code",
      "source": [
        "X = df[['attr_1', 'attr_2', \"attr_3\", \"attr_4\"]]\n",
        "y = df[\"result\"]\n",
        "\n",
        "X_train, X_test, y_train, y_test = train_test_split(X, y, test_size=0.2)\n",
        "\n",
        "model = LinearRegression()\n",
        "model.fit(X_train, y_train)\n",
        "\n",
        "predictions = model.predict(X_test)\n",
        "\n",
        "mse = mean_squared_error(y_test, predictions)\n",
        "r2 = r2_score(y_test, predictions)\n",
        "\n",
        "print(\"MSE:\", mse)\n",
        "print(\"R² score:\", r2)"
      ],
      "metadata": {
        "colab": {
          "base_uri": "https://localhost:8080/"
        },
        "id": "KIxpxSoQYKrp",
        "outputId": "52510a10-889a-4ab4-d925-4698c7e7f1c7"
      },
      "execution_count": 72,
      "outputs": [
        {
          "output_type": "stream",
          "name": "stdout",
          "text": [
            "MSE: 96.36438521152955\n",
            "R² score: 0.9891123673256726\n"
          ]
        }
      ]
    },
    {
      "cell_type": "code",
      "source": [
        "comparison = pd.DataFrame({\"Actual\": y_test.values, \"Predicted\": predictions})\n",
        "print(comparison.head())"
      ],
      "metadata": {
        "colab": {
          "base_uri": "https://localhost:8080/"
        },
        "id": "wOTtuG3vaNtn",
        "outputId": "1821143c-5c1b-40bf-ea28-cde58b854c4e"
      },
      "execution_count": 73,
      "outputs": [
        {
          "output_type": "stream",
          "name": "stdout",
          "text": [
            "       Actual   Predicted\n",
            "0  -71.507715  -82.643661\n",
            "1    3.727841   -1.099662\n",
            "2  -50.513493  -69.315145\n",
            "3 -123.858728 -112.646463\n",
            "4  -24.699426  -37.978642\n"
          ]
        }
      ]
    },
    {
      "cell_type": "code",
      "source": [
        "# Let's do SVD version:\n",
        "X_train_aug = np.c_[np.ones(X_train.shape[0]), X_train]\n",
        "X_test_aug = np.c_[np.ones(X_test.shape[0]), X_test]\n",
        "\n",
        "# Lets SVD the matrix X:\n",
        "#  U: left singular vectors\n",
        "#  S: singular values (as 1D array)\n",
        "#  VT: transpose of right singular vectors\n",
        "U, S, VT = np.linalg.svd(X_train_aug, full_matrices=False)\n",
        "S = np.diag(S)\n",
        "\n",
        "# can reconstruct with:\n",
        "# Sigma = np.zeros((U.shape[0], VT.shape[0]))\n",
        "# np.fill_diagonal(Sigma, S)\n",
        "# X_reconstructed = U @ Sigma @ VT\n",
        "\n",
        "# Calc beta using these SVD values:\n",
        "beta = VT.transpose() @ np.linalg.inv(S) @ U.transpose() @ y_train\n",
        "print(beta)\n",
        "\n",
        "predictions_svd = X_test_aug @ beta\n",
        "pd.DataFrame({\"Actual\": y_test.values, \"Predicted\": predictions})\n",
        "\n",
        "# Results (as far as I can see) identical to above model.\n",
        "# predictions - predictions_svd"
      ],
      "metadata": {
        "id": "NbRFwA2QmZid",
        "outputId": "1a858dd5-5536-4ac8-d63e-134e3110aa0f",
        "colab": {
          "base_uri": "https://localhost:8080/"
        }
      },
      "execution_count": 75,
      "outputs": [
        {
          "output_type": "stream",
          "name": "stdout",
          "text": [
            "[ 0.4988758  59.37336842  2.50601202 31.90779211 83.10631424]\n"
          ]
        },
        {
          "output_type": "execute_result",
          "data": {
            "text/plain": [
              "array([-1.13686838e-13, -1.63424829e-13, -1.42108547e-14, -3.26849658e-13,\n",
              "       -1.84741111e-13, -2.84217094e-14,  2.55795385e-13,  0.00000000e+00,\n",
              "       -1.13686838e-13, -5.68434189e-14, -2.84217094e-13,  1.27897692e-13,\n",
              "       -7.10542736e-14, -2.84217094e-13, -2.84217094e-14, -1.13686838e-13,\n",
              "       -1.42108547e-14,  1.42108547e-14,  6.39488462e-14,  1.13686838e-13,\n",
              "        2.34479103e-13, -2.84217094e-14, -2.13162821e-14, -4.26325641e-14,\n",
              "       -1.13686838e-13,  2.41584530e-13,  1.20792265e-13, -2.13162821e-13,\n",
              "        0.00000000e+00,  1.13686838e-13,  1.56319402e-13, -1.13686838e-13,\n",
              "        1.70530257e-13])"
            ]
          },
          "metadata": {},
          "execution_count": 75
        }
      ]
    }
  ]
}